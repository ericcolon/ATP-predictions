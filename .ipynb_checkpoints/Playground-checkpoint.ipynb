{
 "cells": [
  {
   "cell_type": "markdown",
   "metadata": {},
   "source": [
    "# Deep Learning Winner Predictor for ATP Matches"
   ]
  },
  {
   "cell_type": "code",
   "execution_count": 55,
   "metadata": {},
   "outputs": [],
   "source": [
    "# Import Libraries\n",
    "import numpy as np\n",
    "import pandas as pd\n",
    "import matplotlib.pyplot as plt\n",
    "from IPython.display import display"
   ]
  },
  {
   "cell_type": "markdown",
   "metadata": {},
   "source": [
    "## Load Dataset\n",
    "\n",
    "First load all .csv files into an array of datasets."
   ]
  },
  {
   "cell_type": "code",
   "execution_count": 2,
   "metadata": {
    "scrolled": true
   },
   "outputs": [],
   "source": [
    "# Load all tables\n",
    "datasets = []\n",
    "\n",
    "datasets.append(pd.read_csv('Men/2018.csv', parse_dates=[3], encoding='latin1'))\n",
    "datasets.append(pd.read_csv('Men/2017.csv', parse_dates=[3], encoding='latin1'))\n",
    "datasets.append(pd.read_csv('Men/2016.csv', parse_dates=[3], encoding='latin1'))\n",
    "datasets.append(pd.read_csv('Men/2015.csv', parse_dates=[3], encoding='latin1'))\n",
    "datasets.append(pd.read_csv('Men/2014.csv', parse_dates=[3], encoding='latin1'))\n",
    "datasets.append(pd.read_csv('Men/2013.csv', parse_dates=[3], encoding='latin1'))\n",
    "datasets.append(pd.read_csv('Men/2012.csv', parse_dates=[3], encoding='latin1'))\n",
    "datasets.append(pd.read_csv('Men/2011.csv', parse_dates=[3], encoding='latin1'))\n",
    "datasets.append(pd.read_csv('Men/2010.csv', parse_dates=[3], encoding='latin1'))\n",
    "datasets.append(pd.read_csv('Men/2009.csv', parse_dates=[3], encoding='latin1'))\n",
    "datasets.append(pd.read_csv('Men/2008.csv', parse_dates=[3], encoding='latin1'))\n",
    "datasets.append(pd.read_csv('Men/2007.csv', parse_dates=[3], encoding='latin1'))\n",
    "datasets.append(pd.read_csv('Men/2006.csv', parse_dates=[3], encoding='latin1'))\n",
    "datasets.append(pd.read_csv('Men/2005.csv', parse_dates=[3], encoding='latin1'))\n",
    "datasets.append(pd.read_csv('Men/2004.csv', parse_dates=[3], encoding='latin1'))\n",
    "datasets.append(pd.read_csv('Men/2003.csv', parse_dates=[3], encoding='latin1'))\n",
    "datasets.append(pd.read_csv('Men/2002.csv', parse_dates=[3], encoding='latin1'))\n",
    "datasets.append(pd.read_csv('Men/2001.csv', parse_dates=[3], encoding='latin1'))"
   ]
  },
  {
   "cell_type": "markdown",
   "metadata": {},
   "source": [
    "Then use `pd.concat` to merge all datasets into one big dataset.\n",
    "\n",
    "Use the `keys` argument to index each loaded .csv for its year, for convenience."
   ]
  },
  {
   "cell_type": "code",
   "execution_count": 89,
   "metadata": {
    "scrolled": true
   },
   "outputs": [
    {
     "data": {
      "text/html": [
       "<div>\n",
       "<style scoped>\n",
       "    .dataframe tbody tr th:only-of-type {\n",
       "        vertical-align: middle;\n",
       "    }\n",
       "\n",
       "    .dataframe tbody tr th {\n",
       "        vertical-align: top;\n",
       "    }\n",
       "\n",
       "    .dataframe thead th {\n",
       "        text-align: right;\n",
       "    }\n",
       "</style>\n",
       "<table border=\"1\" class=\"dataframe\">\n",
       "  <thead>\n",
       "    <tr style=\"text-align: right;\">\n",
       "      <th></th>\n",
       "      <th></th>\n",
       "      <th>ATP</th>\n",
       "      <th>Location</th>\n",
       "      <th>Tournament</th>\n",
       "      <th>Date</th>\n",
       "      <th>Series</th>\n",
       "      <th>Court</th>\n",
       "      <th>Surface</th>\n",
       "      <th>Round</th>\n",
       "      <th>Best of</th>\n",
       "      <th>Winner</th>\n",
       "      <th>...</th>\n",
       "      <th>CBW</th>\n",
       "      <th>CBL</th>\n",
       "      <th>IWW</th>\n",
       "      <th>IWL</th>\n",
       "      <th>SBW</th>\n",
       "      <th>SBL</th>\n",
       "      <th>B&amp;WW</th>\n",
       "      <th>B&amp;WL</th>\n",
       "      <th>GBW</th>\n",
       "      <th>GBL</th>\n",
       "    </tr>\n",
       "  </thead>\n",
       "  <tbody>\n",
       "    <tr>\n",
       "      <th rowspan=\"5\" valign=\"top\">18</th>\n",
       "      <th>0</th>\n",
       "      <td>1</td>\n",
       "      <td>Brisbane</td>\n",
       "      <td>Brisbane International</td>\n",
       "      <td>2017-12-31</td>\n",
       "      <td>ATP250</td>\n",
       "      <td>Outdoor</td>\n",
       "      <td>Hard</td>\n",
       "      <td>1st Round</td>\n",
       "      <td>3</td>\n",
       "      <td>Dolgopolov O.</td>\n",
       "      <td>...</td>\n",
       "      <td>NaN</td>\n",
       "      <td>NaN</td>\n",
       "      <td>NaN</td>\n",
       "      <td>NaN</td>\n",
       "      <td>NaN</td>\n",
       "      <td>NaN</td>\n",
       "      <td>NaN</td>\n",
       "      <td>NaN</td>\n",
       "      <td>NaN</td>\n",
       "      <td>NaN</td>\n",
       "    </tr>\n",
       "    <tr>\n",
       "      <th>1</th>\n",
       "      <td>1</td>\n",
       "      <td>Brisbane</td>\n",
       "      <td>Brisbane International</td>\n",
       "      <td>2017-12-31</td>\n",
       "      <td>ATP250</td>\n",
       "      <td>Outdoor</td>\n",
       "      <td>Hard</td>\n",
       "      <td>1st Round</td>\n",
       "      <td>3</td>\n",
       "      <td>De Minaur A.</td>\n",
       "      <td>...</td>\n",
       "      <td>NaN</td>\n",
       "      <td>NaN</td>\n",
       "      <td>NaN</td>\n",
       "      <td>NaN</td>\n",
       "      <td>NaN</td>\n",
       "      <td>NaN</td>\n",
       "      <td>NaN</td>\n",
       "      <td>NaN</td>\n",
       "      <td>NaN</td>\n",
       "      <td>NaN</td>\n",
       "    </tr>\n",
       "    <tr>\n",
       "      <th>2</th>\n",
       "      <td>1</td>\n",
       "      <td>Brisbane</td>\n",
       "      <td>Brisbane International</td>\n",
       "      <td>2018-01-01</td>\n",
       "      <td>ATP250</td>\n",
       "      <td>Outdoor</td>\n",
       "      <td>Hard</td>\n",
       "      <td>1st Round</td>\n",
       "      <td>3</td>\n",
       "      <td>Harrison R.</td>\n",
       "      <td>...</td>\n",
       "      <td>NaN</td>\n",
       "      <td>NaN</td>\n",
       "      <td>NaN</td>\n",
       "      <td>NaN</td>\n",
       "      <td>NaN</td>\n",
       "      <td>NaN</td>\n",
       "      <td>NaN</td>\n",
       "      <td>NaN</td>\n",
       "      <td>NaN</td>\n",
       "      <td>NaN</td>\n",
       "    </tr>\n",
       "    <tr>\n",
       "      <th>3</th>\n",
       "      <td>1</td>\n",
       "      <td>Brisbane</td>\n",
       "      <td>Brisbane International</td>\n",
       "      <td>2018-01-01</td>\n",
       "      <td>ATP250</td>\n",
       "      <td>Outdoor</td>\n",
       "      <td>Hard</td>\n",
       "      <td>1st Round</td>\n",
       "      <td>3</td>\n",
       "      <td>Ebden M.</td>\n",
       "      <td>...</td>\n",
       "      <td>NaN</td>\n",
       "      <td>NaN</td>\n",
       "      <td>NaN</td>\n",
       "      <td>NaN</td>\n",
       "      <td>NaN</td>\n",
       "      <td>NaN</td>\n",
       "      <td>NaN</td>\n",
       "      <td>NaN</td>\n",
       "      <td>NaN</td>\n",
       "      <td>NaN</td>\n",
       "    </tr>\n",
       "    <tr>\n",
       "      <th>4</th>\n",
       "      <td>1</td>\n",
       "      <td>Brisbane</td>\n",
       "      <td>Brisbane International</td>\n",
       "      <td>2018-01-01</td>\n",
       "      <td>ATP250</td>\n",
       "      <td>Outdoor</td>\n",
       "      <td>Hard</td>\n",
       "      <td>1st Round</td>\n",
       "      <td>3</td>\n",
       "      <td>Zverev M.</td>\n",
       "      <td>...</td>\n",
       "      <td>NaN</td>\n",
       "      <td>NaN</td>\n",
       "      <td>NaN</td>\n",
       "      <td>NaN</td>\n",
       "      <td>NaN</td>\n",
       "      <td>NaN</td>\n",
       "      <td>NaN</td>\n",
       "      <td>NaN</td>\n",
       "      <td>NaN</td>\n",
       "      <td>NaN</td>\n",
       "    </tr>\n",
       "  </tbody>\n",
       "</table>\n",
       "<p>5 rows × 54 columns</p>\n",
       "</div>"
      ],
      "text/plain": [
       "      ATP  Location              Tournament       Date  Series    Court  \\\n",
       "18 0    1  Brisbane  Brisbane International 2017-12-31  ATP250  Outdoor   \n",
       "   1    1  Brisbane  Brisbane International 2017-12-31  ATP250  Outdoor   \n",
       "   2    1  Brisbane  Brisbane International 2018-01-01  ATP250  Outdoor   \n",
       "   3    1  Brisbane  Brisbane International 2018-01-01  ATP250  Outdoor   \n",
       "   4    1  Brisbane  Brisbane International 2018-01-01  ATP250  Outdoor   \n",
       "\n",
       "     Surface      Round  Best of         Winner ... CBW  CBL IWW  IWL  SBW  \\\n",
       "18 0    Hard  1st Round        3  Dolgopolov O. ... NaN  NaN NaN  NaN  NaN   \n",
       "   1    Hard  1st Round        3   De Minaur A. ... NaN  NaN NaN  NaN  NaN   \n",
       "   2    Hard  1st Round        3    Harrison R. ... NaN  NaN NaN  NaN  NaN   \n",
       "   3    Hard  1st Round        3       Ebden M. ... NaN  NaN NaN  NaN  NaN   \n",
       "   4    Hard  1st Round        3      Zverev M. ... NaN  NaN NaN  NaN  NaN   \n",
       "\n",
       "      SBL  B&WW B&WL GBW GBL  \n",
       "18 0  NaN   NaN  NaN NaN NaN  \n",
       "   1  NaN   NaN  NaN NaN NaN  \n",
       "   2  NaN   NaN  NaN NaN NaN  \n",
       "   3  NaN   NaN  NaN NaN NaN  \n",
       "   4  NaN   NaN  NaN NaN NaN  \n",
       "\n",
       "[5 rows x 54 columns]"
      ]
     },
     "execution_count": 89,
     "metadata": {},
     "output_type": "execute_result"
    }
   ],
   "source": [
    "# Merge all datasets into one big dataset\n",
    "data = pd.concat(datasets, keys=['18', '17', '16', '15', '14', '13', \n",
    "                                 '12', '11', '10', '09', '08', '07', \n",
    "                                 '06', '05', '04', '03', '02', '01'], sort=False)\n",
    "data.head()"
   ]
  },
  {
   "cell_type": "code",
   "execution_count": 90,
   "metadata": {},
   "outputs": [
    {
     "name": "stdout",
     "output_type": "stream",
     "text": [
      "<class 'pandas.core.frame.DataFrame'>\n",
      "MultiIndex: 48354 entries, (18, 0) to (01, 2962)\n",
      "Data columns (total 54 columns):\n",
      "ATP           48354 non-null int64\n",
      "Location      48354 non-null object\n",
      "Tournament    48354 non-null object\n",
      "Date          48354 non-null datetime64[ns]\n",
      "Series        48354 non-null object\n",
      "Court         48354 non-null object\n",
      "Surface       48354 non-null object\n",
      "Round         48354 non-null object\n",
      "Best of       48354 non-null int64\n",
      "Winner        48354 non-null object\n",
      "Loser         48354 non-null object\n",
      "WRank         48339 non-null float64\n",
      "LRank         48276 non-null object\n",
      "WPts          35113 non-null float64\n",
      "LPts          35054 non-null float64\n",
      "W1            48114 non-null float64\n",
      "L1            48116 non-null float64\n",
      "W2            47629 non-null object\n",
      "L2            47630 non-null object\n",
      "W3            22367 non-null object\n",
      "L3            22366 non-null object\n",
      "W4            4399 non-null float64\n",
      "L4            4399 non-null float64\n",
      "W5            1682 non-null float64\n",
      "L5            1682 non-null float64\n",
      "Wsets         48139 non-null float64\n",
      "Lsets         48138 non-null object\n",
      "Comment       48354 non-null object\n",
      "B365W         42666 non-null float64\n",
      "B365L         42689 non-null float64\n",
      "EXW           38436 non-null float64\n",
      "EXL           38441 non-null float64\n",
      "LBW           27344 non-null float64\n",
      "LBL           27355 non-null float64\n",
      "PSW           36366 non-null float64\n",
      "PSL           36366 non-null float64\n",
      "MaxW          21765 non-null float64\n",
      "MaxL          21765 non-null float64\n",
      "AvgW          21765 non-null float64\n",
      "AvgL          21765 non-null float64\n",
      "SJW           15572 non-null float64\n",
      "SJL           15579 non-null float64\n",
      "UBW           10671 non-null float64\n",
      "UBL           10671 non-null float64\n",
      "CBW           17506 non-null float64\n",
      "CBL           17506 non-null float64\n",
      "IWW           13358 non-null float64\n",
      "IWL           13358 non-null float64\n",
      "SBW           5424 non-null float64\n",
      "SBL           5424 non-null float64\n",
      "B&WW          1097 non-null float64\n",
      "B&WL          1097 non-null float64\n",
      "GBW           5055 non-null float64\n",
      "GBL           5055 non-null float64\n",
      "dtypes: datetime64[ns](1), float64(36), int64(2), object(15)\n",
      "memory usage: 20.1+ MB\n"
     ]
    }
   ],
   "source": [
    "# Data info\n",
    "data.info()"
   ]
  },
  {
   "cell_type": "markdown",
   "metadata": {},
   "source": [
    "## Inspect Categorial Features\n",
    "\n",
    "Start by inspecting the categorical features to look for any anomalies."
   ]
  },
  {
   "cell_type": "code",
   "execution_count": 91,
   "metadata": {
    "scrolled": false
   },
   "outputs": [
    {
     "data": {
      "text/html": [
       "<div>\n",
       "<style scoped>\n",
       "    .dataframe tbody tr th:only-of-type {\n",
       "        vertical-align: middle;\n",
       "    }\n",
       "\n",
       "    .dataframe tbody tr th {\n",
       "        vertical-align: top;\n",
       "    }\n",
       "\n",
       "    .dataframe thead th {\n",
       "        text-align: right;\n",
       "    }\n",
       "</style>\n",
       "<table border=\"1\" class=\"dataframe\">\n",
       "  <thead>\n",
       "    <tr style=\"text-align: right;\">\n",
       "      <th></th>\n",
       "      <th>Location</th>\n",
       "      <th>Tournament</th>\n",
       "      <th>Series</th>\n",
       "      <th>Court</th>\n",
       "      <th>Surface</th>\n",
       "      <th>Round</th>\n",
       "      <th>Winner</th>\n",
       "      <th>Loser</th>\n",
       "      <th>LRank</th>\n",
       "      <th>W2</th>\n",
       "      <th>L2</th>\n",
       "      <th>W3</th>\n",
       "      <th>L3</th>\n",
       "      <th>Lsets</th>\n",
       "      <th>Comment</th>\n",
       "    </tr>\n",
       "  </thead>\n",
       "  <tbody>\n",
       "    <tr>\n",
       "      <th>count</th>\n",
       "      <td>48354</td>\n",
       "      <td>48354</td>\n",
       "      <td>48354</td>\n",
       "      <td>48354</td>\n",
       "      <td>48354</td>\n",
       "      <td>48354</td>\n",
       "      <td>48354</td>\n",
       "      <td>48354</td>\n",
       "      <td>48276.0</td>\n",
       "      <td>47629.0</td>\n",
       "      <td>47630.0</td>\n",
       "      <td>22367.0</td>\n",
       "      <td>22366.0</td>\n",
       "      <td>48138.0</td>\n",
       "      <td>48354</td>\n",
       "    </tr>\n",
       "    <tr>\n",
       "      <th>unique</th>\n",
       "      <td>109</td>\n",
       "      <td>201</td>\n",
       "      <td>8</td>\n",
       "      <td>2</td>\n",
       "      <td>4</td>\n",
       "      <td>8</td>\n",
       "      <td>889</td>\n",
       "      <td>1405</td>\n",
       "      <td>1405.0</td>\n",
       "      <td>17.0</td>\n",
       "      <td>17.0</td>\n",
       "      <td>17.0</td>\n",
       "      <td>17.0</td>\n",
       "      <td>7.0</td>\n",
       "      <td>5</td>\n",
       "    </tr>\n",
       "    <tr>\n",
       "      <th>top</th>\n",
       "      <td>Paris</td>\n",
       "      <td>Wimbledon</td>\n",
       "      <td>ATP250</td>\n",
       "      <td>Outdoor</td>\n",
       "      <td>Hard</td>\n",
       "      <td>1st Round</td>\n",
       "      <td>Federer R.</td>\n",
       "      <td>Lopez F.</td>\n",
       "      <td>45.0</td>\n",
       "      <td>6.0</td>\n",
       "      <td>6.0</td>\n",
       "      <td>6.0</td>\n",
       "      <td>4.0</td>\n",
       "      <td>0.0</td>\n",
       "      <td>Completed</td>\n",
       "    </tr>\n",
       "    <tr>\n",
       "      <th>freq</th>\n",
       "      <td>3085</td>\n",
       "      <td>2286</td>\n",
       "      <td>10999</td>\n",
       "      <td>39815</td>\n",
       "      <td>25360</td>\n",
       "      <td>22348</td>\n",
       "      <td>1071</td>\n",
       "      <td>408</td>\n",
       "      <td>353.0</td>\n",
       "      <td>27510.0</td>\n",
       "      <td>10218.0</td>\n",
       "      <td>13066.0</td>\n",
       "      <td>4416.0</td>\n",
       "      <td>28426.0</td>\n",
       "      <td>46544</td>\n",
       "    </tr>\n",
       "  </tbody>\n",
       "</table>\n",
       "</div>"
      ],
      "text/plain": [
       "       Location Tournament  Series    Court Surface      Round      Winner  \\\n",
       "count     48354      48354   48354    48354   48354      48354       48354   \n",
       "unique      109        201       8        2       4          8         889   \n",
       "top       Paris  Wimbledon  ATP250  Outdoor    Hard  1st Round  Federer R.   \n",
       "freq       3085       2286   10999    39815   25360      22348        1071   \n",
       "\n",
       "           Loser    LRank       W2       L2       W3       L3    Lsets  \\\n",
       "count      48354  48276.0  47629.0  47630.0  22367.0  22366.0  48138.0   \n",
       "unique      1405   1405.0     17.0     17.0     17.0     17.0      7.0   \n",
       "top     Lopez F.     45.0      6.0      6.0      6.0      4.0      0.0   \n",
       "freq         408    353.0  27510.0  10218.0  13066.0   4416.0  28426.0   \n",
       "\n",
       "          Comment  \n",
       "count       48354  \n",
       "unique          5  \n",
       "top     Completed  \n",
       "freq        46544  "
      ]
     },
     "execution_count": 91,
     "metadata": {},
     "output_type": "execute_result"
    }
   ],
   "source": [
    "# Describe the categorical features\n",
    "data.describe(include=['O'])"
   ]
  },
  {
   "cell_type": "markdown",
   "metadata": {},
   "source": [
    "Some columns have been wrongly casted as `object` instead of `float64` or `int64`.\n",
    "\n",
    "Let's start checking the problem with the columns with few uniques."
   ]
  },
  {
   "cell_type": "code",
   "execution_count": 92,
   "metadata": {},
   "outputs": [
    {
     "data": {
      "text/plain": [
       "array([6.0, 4.0, 2.0, 5.0, 3.0, 0.0, 7.0, 1.0, nan, '7', '3', '4', '2',\n",
       "       '6', '1', '0', '5', ' '], dtype=object)"
      ]
     },
     "execution_count": 92,
     "metadata": {},
     "output_type": "execute_result"
    }
   ],
   "source": [
    "# Display the unique values of column L2\n",
    "data.L2.unique()"
   ]
  },
  {
   "cell_type": "markdown",
   "metadata": {},
   "source": [
    "Some entries in the `L2` column have the value `' '`, which cannot be casted as float. Thus, the entire column is casted as an object.\n",
    "\n",
    "Let's fix this by changing these `' '` entries to `NaN`:"
   ]
  },
  {
   "cell_type": "code",
   "execution_count": 93,
   "metadata": {
    "scrolled": true
   },
   "outputs": [
    {
     "data": {
      "text/plain": [
       "array([6.0, 4.0, 2.0, 5.0, 3.0, 0.0, 7.0, 1.0, nan, '7', '3', '4', '2',\n",
       "       '6', '1', '0', '5'], dtype=object)"
      ]
     },
     "execution_count": 93,
     "metadata": {},
     "output_type": "execute_result"
    }
   ],
   "source": [
    "# Assign NaN to all entries in L3 equal to ' '\n",
    "data.loc[data.L2 == ' ', ['L2']] = np.nan\n",
    "data.L2.unique()"
   ]
  },
  {
   "cell_type": "markdown",
   "metadata": {},
   "source": [
    "The exact same problem is present in the `L3`, `W2`, and `W3` columns."
   ]
  },
  {
   "cell_type": "code",
   "execution_count": 94,
   "metadata": {},
   "outputs": [
    {
     "name": "stdout",
     "output_type": "stream",
     "text": [
      "L3 uniques before fixing:  [nan 2.0 4.0 3.0 0.0 6.0 5.0 1.0 7.0 '4' '1' '2' '3' '6' '5' '0' '7' ' ']\n",
      "W2 uniques before fixing:  [7.0 6.0 3.0 5.0 4.0 nan 1.0 2.0 0.0 '6' '3' '7' '4' '0' '2' '1' '5' ' ']\n",
      "W3 uniques before fixing:  [nan 6.0 7.0 3.0 5.0 4.0 2.0 1.0 0.0 '6' '7' '1' '4' '3' '5' '2' ' ' '0']\n",
      "----------------------------------------\n",
      "L3 uniques after fixing:  [nan 2.0 4.0 3.0 0.0 6.0 5.0 1.0 7.0 '4' '1' '2' '3' '6' '5' '0' '7']\n",
      "W2 uniques after fixing:  [7.0 6.0 3.0 5.0 4.0 nan 1.0 2.0 0.0 '6' '3' '7' '4' '0' '2' '1' '5']\n",
      "W3 uniques after fixing:  [nan 6.0 7.0 3.0 5.0 4.0 2.0 1.0 0.0 '6' '7' '1' '4' '3' '5' '2' '0']\n"
     ]
    }
   ],
   "source": [
    "print('L3 uniques before fixing: ', data.L3.unique())\n",
    "print('W2 uniques before fixing: ', data.W2.unique())\n",
    "print('W3 uniques before fixing: ', data.W3.unique())\n",
    "data.loc[data.L3 == ' ', ['L3']] = np.nan\n",
    "data.loc[data.W2 == ' ', ['W2']] = np.nan\n",
    "data.loc[data.W3 == ' ', ['W3']] = np.nan\n",
    "print(\"-\" * 40)\n",
    "print('L3 uniques after fixing: ', data.L3.unique())\n",
    "print('W2 uniques after fixing: ', data.W2.unique())\n",
    "print('W3 uniques after fixing: ', data.W3.unique())"
   ]
  },
  {
   "cell_type": "markdown",
   "metadata": {},
   "source": [
    "The `Lsets` column has a typo, which is fixed the same way."
   ]
  },
  {
   "cell_type": "code",
   "execution_count": 95,
   "metadata": {
    "scrolled": true
   },
   "outputs": [
    {
     "name": "stdout",
     "output_type": "stream",
     "text": [
      "Lsets uniques before fixing: [0.0 1.0 nan 2.0 '1' '0' '2' '`1']\n",
      "----------------------------------------\n",
      "Lsets uniques after fixing: [0.0 1.0 nan 2.0 '1' '0' '2']\n"
     ]
    }
   ],
   "source": [
    "print(\"Lsets uniques before fixing:\", data.Lsets.unique())\n",
    "data.loc[data.Lsets == '`1', ['Lsets']] = 1 \n",
    "print(\"-\" * 40)\n",
    "print(\"Lsets uniques after fixing:\", data.Lsets.unique())"
   ]
  },
  {
   "cell_type": "markdown",
   "metadata": {},
   "source": [
    "Now the `LRank` column. This is trickier as it has 1405 unique values, so I can't just print them and look for the typo.\n",
    "\n",
    "So, Let's write a function to check if a value cannot be converted to `float`. Apply this function to every entry in the `LRank` column, use the results to filter through the column, and get the faulty entries."
   ]
  },
  {
   "cell_type": "code",
   "execution_count": 96,
   "metadata": {},
   "outputs": [],
   "source": [
    "# Function to check if a value can be converted to float.\n",
    "def isnotfloat(value):\n",
    "  try:\n",
    "    float(value)\n",
    "    return False\n",
    "  except ValueError:\n",
    "    return True"
   ]
  },
  {
   "cell_type": "code",
   "execution_count": 97,
   "metadata": {},
   "outputs": [
    {
     "data": {
      "text/plain": [
       "03  816     NR\n",
       "02  72      NR\n",
       "    381     NR\n",
       "    851     NR\n",
       "    1370    NR\n",
       "    1488    NR\n",
       "    1492    NR\n",
       "    2185    NR\n",
       "01  577     NR\n",
       "    588     NR\n",
       "    1494    NR\n",
       "    2472    NR\n",
       "    2524    NR\n",
       "    2528    NR\n",
       "    2531    NR\n",
       "    2535    NR\n",
       "    2565    NR\n",
       "Name: LRank, dtype: object"
      ]
     },
     "execution_count": 97,
     "metadata": {},
     "output_type": "execute_result"
    }
   ],
   "source": [
    "data.LRank[list(map(lambda x: isnotfloat(x), data.LRank))]"
   ]
  },
  {
   "cell_type": "markdown",
   "metadata": {},
   "source": [
    "Now that the faulty entry is known, let's do the exact same thing as with the other columns."
   ]
  },
  {
   "cell_type": "code",
   "execution_count": 98,
   "metadata": {},
   "outputs": [],
   "source": [
    "data.loc[data.LRank == 'NR', ['LRank']] = np.nan"
   ]
  },
  {
   "cell_type": "markdown",
   "metadata": {},
   "source": [
    "Now that all faulty entries have been taken care of, let's cast these wrongly objected columns to `float64`. "
   ]
  },
  {
   "cell_type": "code",
   "execution_count": 99,
   "metadata": {
    "scrolled": true
   },
   "outputs": [
    {
     "data": {
      "text/html": [
       "<div>\n",
       "<style scoped>\n",
       "    .dataframe tbody tr th:only-of-type {\n",
       "        vertical-align: middle;\n",
       "    }\n",
       "\n",
       "    .dataframe tbody tr th {\n",
       "        vertical-align: top;\n",
       "    }\n",
       "\n",
       "    .dataframe thead th {\n",
       "        text-align: right;\n",
       "    }\n",
       "</style>\n",
       "<table border=\"1\" class=\"dataframe\">\n",
       "  <thead>\n",
       "    <tr style=\"text-align: right;\">\n",
       "      <th></th>\n",
       "      <th>Location</th>\n",
       "      <th>Tournament</th>\n",
       "      <th>Series</th>\n",
       "      <th>Court</th>\n",
       "      <th>Surface</th>\n",
       "      <th>Round</th>\n",
       "      <th>Winner</th>\n",
       "      <th>Loser</th>\n",
       "      <th>Comment</th>\n",
       "    </tr>\n",
       "  </thead>\n",
       "  <tbody>\n",
       "    <tr>\n",
       "      <th>count</th>\n",
       "      <td>48354</td>\n",
       "      <td>48354</td>\n",
       "      <td>48354</td>\n",
       "      <td>48354</td>\n",
       "      <td>48354</td>\n",
       "      <td>48354</td>\n",
       "      <td>48354</td>\n",
       "      <td>48354</td>\n",
       "      <td>48354</td>\n",
       "    </tr>\n",
       "    <tr>\n",
       "      <th>unique</th>\n",
       "      <td>109</td>\n",
       "      <td>201</td>\n",
       "      <td>8</td>\n",
       "      <td>2</td>\n",
       "      <td>4</td>\n",
       "      <td>8</td>\n",
       "      <td>889</td>\n",
       "      <td>1405</td>\n",
       "      <td>5</td>\n",
       "    </tr>\n",
       "    <tr>\n",
       "      <th>top</th>\n",
       "      <td>Paris</td>\n",
       "      <td>Wimbledon</td>\n",
       "      <td>ATP250</td>\n",
       "      <td>Outdoor</td>\n",
       "      <td>Hard</td>\n",
       "      <td>1st Round</td>\n",
       "      <td>Federer R.</td>\n",
       "      <td>Lopez F.</td>\n",
       "      <td>Completed</td>\n",
       "    </tr>\n",
       "    <tr>\n",
       "      <th>freq</th>\n",
       "      <td>3085</td>\n",
       "      <td>2286</td>\n",
       "      <td>10999</td>\n",
       "      <td>39815</td>\n",
       "      <td>25360</td>\n",
       "      <td>22348</td>\n",
       "      <td>1071</td>\n",
       "      <td>408</td>\n",
       "      <td>46544</td>\n",
       "    </tr>\n",
       "  </tbody>\n",
       "</table>\n",
       "</div>"
      ],
      "text/plain": [
       "       Location Tournament  Series    Court Surface      Round      Winner  \\\n",
       "count     48354      48354   48354    48354   48354      48354       48354   \n",
       "unique      109        201       8        2       4          8         889   \n",
       "top       Paris  Wimbledon  ATP250  Outdoor    Hard  1st Round  Federer R.   \n",
       "freq       3085       2286   10999    39815   25360      22348        1071   \n",
       "\n",
       "           Loser    Comment  \n",
       "count      48354      48354  \n",
       "unique      1405          5  \n",
       "top     Lopez F.  Completed  \n",
       "freq         408      46544  "
      ]
     },
     "execution_count": 99,
     "metadata": {},
     "output_type": "execute_result"
    }
   ],
   "source": [
    "# Cast numeric features incorrectly set as 'object' to 'float64'\n",
    "wrongly_objected = ['L2', 'L3', 'LRank', 'Lsets', 'W2', 'W3']\n",
    "for w in wrongly_objected:\n",
    "    data.loc[:, [w]] = np.float64(data[w][:])\n",
    "\n",
    "data.describe(include=['O'])"
   ]
  },
  {
   "cell_type": "markdown",
   "metadata": {},
   "source": [
    "## Handle Missing Data, Drop Features and Create New Ones"
   ]
  },
  {
   "cell_type": "markdown",
   "metadata": {},
   "source": [
    "How many missing values does each feature have?"
   ]
  },
  {
   "cell_type": "code",
   "execution_count": 100,
   "metadata": {},
   "outputs": [
    {
     "name": "stdout",
     "output_type": "stream",
     "text": [
      "WRank: 15\n",
      "LRank: 95\n",
      "Wsets: 215\n",
      "Lsets: 216\n",
      "L1: 238\n",
      "W1: 240\n",
      "L2: 726\n",
      "W2: 727\n",
      "B365L: 5665\n",
      "B365W: 5688\n",
      "EXL: 9913\n",
      "EXW: 9918\n",
      "PSW: 11988\n",
      "PSL: 11988\n",
      "WPts: 13241\n",
      "LPts: 13300\n",
      "LBL: 20999\n",
      "LBW: 21010\n",
      "W3: 26086\n",
      "L3: 26086\n",
      "MaxW: 26589\n",
      "MaxL: 26589\n",
      "AvgW: 26589\n",
      "AvgL: 26589\n",
      "CBW: 30848\n",
      "CBL: 30848\n",
      "SJL: 32775\n",
      "SJW: 32782\n",
      "IWW: 34996\n",
      "IWL: 34996\n",
      "UBW: 37683\n",
      "UBL: 37683\n",
      "SBW: 42930\n",
      "SBL: 42930\n",
      "GBW: 43299\n",
      "GBL: 43299\n",
      "W4: 43955\n",
      "L4: 43955\n",
      "W5: 46672\n",
      "L5: 46672\n",
      "B&WW: 47257\n",
      "B&WL: 47257\n"
     ]
    }
   ],
   "source": [
    "# Print in ascending order the amount of missing values for each column with missing values\n",
    "def print_missing():\n",
    "    # Create dictionary of missing values\n",
    "    missing = {}\n",
    "    for c in data.columns:\n",
    "        m = sum(data[c].isna())\n",
    "        if m > 0:\n",
    "            missing[c] = m\n",
    "\n",
    "    # Sort dictionary by value and print\n",
    "    for key, value in sorted(missing.items(), key=lambda x: x[1]):\n",
    "        print(\"%s: %s\" % (key, value))\n",
    "        \n",
    "print_missing()"
   ]
  },
  {
   "cell_type": "markdown",
   "metadata": {},
   "source": [
    "#### Observations:\n",
    "1. The amount of rows with missing values in any of `WRank`, `LRank`, `Wsets`, `Lsets`, `L1`, `W1`, `L2` and `W2` are few in comparison with the dataset size, and there is no easy way to infer their data so it might be best to drop them.\n",
    "2. There are A LOT of missing betting odds values.\n",
    "3. Almost half the dataset does not contain the values for `AvgW`, `AvgL`, `MaxW` and `MaxL`. This values can be calculated so it's not a big problem.\n",
    "5. Almost the entire dataset has no values for `W4`, `L4`, `W5` and `L5`. This is due to most games being a Best of 3, thus, not needing 4 or 5 rounds.\n",
    "6. About half the entries do not have the values for `W3` and `L3`. This is due to games being decided in the first 2 rounds.\n",
    "7. `WPts` and `LPts` can be inferred by interpolation."
   ]
  },
  {
   "cell_type": "markdown",
   "metadata": {},
   "source": [
    "First, the entries with missing values in `WRank`, `LRank`, `Wsets`, `Lsets`, `L1`, `W1`, `L2` or `W2` are dropped as they are of no use and don't represent a great loss."
   ]
  },
  {
   "cell_type": "code",
   "execution_count": 101,
   "metadata": {},
   "outputs": [
    {
     "name": "stdout",
     "output_type": "stream",
     "text": [
      "Data entries before dropping: 48354\n",
      "----------------------------------------\n",
      "Data entries after dropping: 47517\n"
     ]
    }
   ],
   "source": [
    "# Drop entries with missing values in WRank, LRank, Wsets, Lsets, L1, W1, L2 or W2\n",
    "print('Data entries before dropping:', data.shape[0])\n",
    "data.dropna(subset=['WRank', 'LRank', 'Wsets', 'Lsets', 'L1', 'W1', 'L2', 'W2'], axis=0, inplace=True)\n",
    "print(\"-\" * 40)\n",
    "print('Data entries after dropping:', data.shape[0])"
   ]
  },
  {
   "cell_type": "markdown",
   "metadata": {},
   "source": [
    "Next in line are the betting odds. There are A LOT of missing values for these, so using the individual odd values may not be a good idea.\n",
    "\n",
    "What will be done instead, is to use all the available betting odds to obtain new metrics like the standard deviation, the minimum odds value, and the already in-place average and maximum odds value, and drop the individual odd features.\n",
    "\n",
    "The available individual betting values will also be used to fill the missing `MaxW`, `MaxL`, `AvgW` and `AvgL` values."
   ]
  },
  {
   "cell_type": "code",
   "execution_count": 102,
   "metadata": {},
   "outputs": [],
   "source": [
    "# Create a list of all Betting Odds for winner and loser\n",
    "odds_W = ['B365W', 'EXW', 'PSW', 'LBW', 'CBW', 'SJW', 'IWW', 'UBW', 'SBW', 'GBW', 'B&WW']\n",
    "odds_L = ['B365L', 'EXL', 'PSL', 'LBL', 'CBL', 'SJL', 'IWL', 'UBL', 'SBL', 'GBL', 'B&WL']"
   ]
  },
  {
   "cell_type": "markdown",
   "metadata": {},
   "source": [
    "But first, let's drop all entries with no more than 2 individual betting values. This is because we need at least 2 individual values to obtain a standard deviation."
   ]
  },
  {
   "cell_type": "code",
   "execution_count": 103,
   "metadata": {},
   "outputs": [
    {
     "name": "stdout",
     "output_type": "stream",
     "text": [
      "Data entries befor dropping: 47517\n",
      "----------------------------------------\n",
      "Data entries after dropping: 46369\n"
     ]
    }
   ],
   "source": [
    "print('Data entries befor dropping:', data.shape[0])\n",
    "data.dropna(subset=odds_W, thresh=2, axis=0, inplace=True)\n",
    "data.dropna(subset=odds_L, thresh=2, axis=0, inplace=True)\n",
    "print(\"-\" * 40)\n",
    "print('Data entries after dropping:', data.shape[0])"
   ]
  },
  {
   "cell_type": "markdown",
   "metadata": {},
   "source": [
    "Let's fill the missing average and max values with the remaining betting values."
   ]
  },
  {
   "cell_type": "code",
   "execution_count": 104,
   "metadata": {},
   "outputs": [
    {
     "name": "stdout",
     "output_type": "stream",
     "text": [
      "Missing values for AvgW before filling: 25049\n",
      "Missing values for AvgL before filling: 25049\n",
      "----------------------------------------\n",
      "Missing values for AvgW after filling: 0\n",
      "Missing values for AvgL after filling: 0\n",
      "\n",
      "\n",
      "Missing values for MaxW before filling: 25049\n",
      "Missing values for MaxL before filling: 25049\n",
      "----------------------------------------\n",
      "Missing values for MaxW after filling: 0\n",
      "Missing values for MaxL after filling: 0\n"
     ]
    }
   ],
   "source": [
    "# Fill missing values for AvgW and AvgL with the average of their individual betting odds\n",
    "print(\"Missing values for AvgW before filling:\",sum(data['AvgW'].isna()))\n",
    "print(\"Missing values for AvgL before filling:\",sum(data['AvgL'].isna()))\n",
    "data['AvgW'].fillna(data[odds_W].mean(axis=1), inplace=True)\n",
    "data['AvgL'].fillna(data[odds_L].mean(axis=1), inplace=True)\n",
    "print(\"-\" * 40)\n",
    "print(\"Missing values for AvgW after filling:\", sum(data['AvgW'].isna()))\n",
    "print(\"Missing values for AvgL after filling:\",sum(data['AvgL'].isna()))\n",
    "print('\\n')\n",
    "\n",
    "# Fill missing values MaxW and MaxL with the maximum of their individual betting odds\n",
    "print(\"Missing values for MaxW before filling:\",sum(data['MaxW'].isna()))\n",
    "print(\"Missing values for MaxL before filling:\",sum(data['MaxL'].isna()))\n",
    "data['MaxW'].fillna(data[odds_W].max(axis=1), inplace=True)\n",
    "data['MaxL'].fillna(data[odds_L].max(axis=1), inplace=True)\n",
    "print(\"-\" * 40)\n",
    "print(\"Missing values for MaxW after filling:\", sum(data['MaxW'].isna()))\n",
    "print(\"Missing values for MaxL after filling:\",sum(data['MaxL'].isna()))"
   ]
  },
  {
   "cell_type": "markdown",
   "metadata": {},
   "source": [
    "Now, let's create the `StdW` and `StdL` features for the standard deviation in betting for winner and loser."
   ]
  },
  {
   "cell_type": "code",
   "execution_count": 105,
   "metadata": {},
   "outputs": [
    {
     "data": {
      "text/plain": [
       "18  0    0.059722\n",
       "    1    0.188149\n",
       "    2    0.029439\n",
       "    3    0.067823\n",
       "    4    0.072572\n",
       "Name: StdW, dtype: float64"
      ]
     },
     "metadata": {},
     "output_type": "display_data"
    },
    {
     "data": {
      "text/plain": [
       "18  0    0.041633\n",
       "    1    0.025000\n",
       "    2    0.086603\n",
       "    3    0.060553\n",
       "    4    0.278867\n",
       "Name: StdL, dtype: float64"
      ]
     },
     "metadata": {},
     "output_type": "display_data"
    }
   ],
   "source": [
    "# Create StdW and StdL\n",
    "data['StdW'] = data[odds_W].std(axis=1)\n",
    "data['StdL'] = data[odds_L].std(axis=1)\n",
    "display(data.StdW.head())\n",
    "display(data.StdL.head())"
   ]
  },
  {
   "cell_type": "markdown",
   "metadata": {},
   "source": [
    "Now the `MinW` and `MinL` features for the minimum betting odd values."
   ]
  },
  {
   "cell_type": "code",
   "execution_count": 106,
   "metadata": {},
   "outputs": [
    {
     "data": {
      "text/plain": [
       "18  0    2.10\n",
       "    1    2.75\n",
       "    2    1.61\n",
       "    3    2.35\n",
       "    4    1.40\n",
       "Name: MinW, dtype: float64"
      ]
     },
     "metadata": {},
     "output_type": "display_data"
    },
    {
     "data": {
      "text/plain": [
       "18  0    1.61\n",
       "    1    1.38\n",
       "    2    2.15\n",
       "    3    1.50\n",
       "    4    2.37\n",
       "Name: MinL, dtype: float64"
      ]
     },
     "metadata": {},
     "output_type": "display_data"
    }
   ],
   "source": [
    "# Create MinW and MinL\n",
    "data['MinW'] = data[odds_W].min(axis=1)\n",
    "data['MinL'] = data[odds_L].min(axis=1)\n",
    "display(data.MinW.head())\n",
    "display(data.MinL.head())"
   ]
  },
  {
   "cell_type": "markdown",
   "metadata": {},
   "source": [
    "Once the the values for minimum, maximum, average and standard deviation have all been obtained, it is time time to drop all the individual betting values."
   ]
  },
  {
   "cell_type": "code",
   "execution_count": 107,
   "metadata": {},
   "outputs": [
    {
     "name": "stdout",
     "output_type": "stream",
     "text": [
      "['ATP' 'Location' 'Tournament' 'Date' 'Series' 'Court' 'Surface' 'Round'\n",
      " 'Best of' 'Winner' 'Loser' 'WRank' 'LRank' 'WPts' 'LPts' 'W1' 'L1' 'W2'\n",
      " 'L2' 'W3' 'L3' 'W4' 'L4' 'W5' 'L5' 'Wsets' 'Lsets' 'Comment' 'B365W'\n",
      " 'B365L' 'EXW' 'EXL' 'LBW' 'LBL' 'PSW' 'PSL' 'MaxW' 'MaxL' 'AvgW' 'AvgL'\n",
      " 'SJW' 'SJL' 'UBW' 'UBL' 'CBW' 'CBL' 'IWW' 'IWL' 'SBW' 'SBL' 'B&WW' 'B&WL'\n",
      " 'GBW' 'GBL' 'StdW' 'StdL' 'MinW' 'MinL']\n",
      "----------------------------------------\n",
      "['ATP' 'Location' 'Tournament' 'Date' 'Series' 'Court' 'Surface' 'Round'\n",
      " 'Best of' 'Winner' 'Loser' 'WRank' 'LRank' 'WPts' 'LPts' 'W1' 'L1' 'W2'\n",
      " 'L2' 'W3' 'L3' 'W4' 'L4' 'W5' 'L5' 'Wsets' 'Lsets' 'Comment' 'MaxW'\n",
      " 'MaxL' 'AvgW' 'AvgL' 'StdW' 'StdL' 'MinW' 'MinL']\n"
     ]
    }
   ],
   "source": [
    "print(data.columns.values)\n",
    "print('-'*40)\n",
    "# Drop all winner individual betting values\n",
    "data.drop(odds_W, axis=1, inplace=True)\n",
    "# Drop all loser individual betting values\n",
    "data.drop(odds_L, axis=1, inplace=True)\n",
    "print(data.columns.values)"
   ]
  },
  {
   "cell_type": "markdown",
   "metadata": {},
   "source": [
    "Now, to take care of the missing values for the features `W3`, `L3`, `W4`, `L4`, `W5` and `L5`; The missing values are gonna be replaced by `-1`s. This because although empty, these missing values represent the dominance of the winner, as he managed to beat his opponent without needing to play all rounds."
   ]
  },
  {
   "cell_type": "code",
   "execution_count": 108,
   "metadata": {},
   "outputs": [
    {
     "data": {
      "text/plain": [
       "18  0   -1.0\n",
       "    1   -1.0\n",
       "    2   -1.0\n",
       "    3   -1.0\n",
       "    4   -1.0\n",
       "Name: W4, dtype: float64"
      ]
     },
     "execution_count": 108,
     "metadata": {},
     "output_type": "execute_result"
    }
   ],
   "source": [
    "# Fill W3, L3, W4, L4, W5 and L5 features with -1s\n",
    "data['W3'].fillna(-1, inplace=True)\n",
    "data['L3'].fillna(-1, inplace=True)\n",
    "data['W4'].fillna(-1, inplace=True)\n",
    "data['L4'].fillna(-1, inplace=True)\n",
    "data['W5'].fillna(-1, inplace=True)\n",
    "data['L5'].fillna(-1, inplace=True)\n",
    "\n",
    "data['W4'].head()"
   ]
  },
  {
   "cell_type": "markdown",
   "metadata": {},
   "source": [
    "And finally, let's take care of the `WPts` and `LPts` features.\n",
    "\n",
    "My common sense tells me there is a direct correlation between Rank and Point, which would mean the Pts features are not needed since they would be redundant.\n",
    "\n",
    "To confirm this hypothesis, let's do a simple scatter plot where the X axis is the Rank and the Y axis are the Points."
   ]
  },
  {
   "cell_type": "code",
   "execution_count": 109,
   "metadata": {},
   "outputs": [
    {
     "data": {
      "text/plain": [
       "<matplotlib.axes._subplots.AxesSubplot at 0x11b2d32e8>"
      ]
     },
     "execution_count": 109,
     "metadata": {},
     "output_type": "execute_result"
    },
    {
     "data": {
      "image/png": "[encoded data removed]",
      "text/plain": [
       "<Figure size 432x288 with 1 Axes>"
      ]
     },
     "metadata": {},
     "output_type": "display_data"
    }
   ],
   "source": [
    "import random\n",
    "# Get a random sample of 200 entries from the dataset.\n",
    "sample = data.iloc[list(random.sample(range(data.shape[0]), 200)), :]\n",
    "# Simple scatter plot\n",
    "sample.plot.scatter(x='WRank', y='WPts')"
   ]
  },
  {
   "cell_type": "markdown",
   "metadata": {},
   "source": [
    "Just as suspected, the Points and the Rank form a very pretty quadratic function.\n",
    "\n",
    "But just to double check, let's see the difference between the percentage of winners with a better rank than their opponents and the percentage of winners with more points than their opponents."
   ]
  },
  {
   "cell_type": "code",
   "execution_count": 121,
   "metadata": {},
   "outputs": [
    {
     "name": "stdout",
     "output_type": "stream",
     "text": [
      "Winners with better rank: 49.045699 (22742)\n",
      "Winners with more points: 49.015506 (22728)\n",
      "Difference: 0.030193 (14)\n"
     ]
    }
   ],
   "source": [
    "# Total amount of matches\n",
    "n_matches = data.shape[0]\n",
    "\n",
    "### What percentage of winners had a better rank than the loser?\n",
    "# Amount of winners with better rank\n",
    "n_better_rank_winners = sum(data.dropna(subset=['WPts', 'LPts'], axis=0).WRank < data.dropna(subset=['WPts', 'LPts'], axis=0).LRank)\n",
    "# Percentage of winners with better rank\n",
    "pct_better_rank_winners = n_better_rank_winners / n_matches\n",
    "\n",
    "print('Winners with better rank: %f (%s)' % (pct_better_rank_winners*100, n_better_rank_winners))\n",
    "\n",
    "### What percentage of winners had more points than the losers?\n",
    "# Amount of winners with more points\n",
    "n_more_points_winners = sum(data.dropna(subset=['WPts', 'LPts'], axis=0).WPts > data.dropna(subset=['WPts', 'LPts'], axis=0).LPts)\n",
    "# Percentage of winners with more points\n",
    "pct_more_points_winners = n_more_points_winners / n_matches\n",
    "\n",
    "print('Winners with more points: %f (%s)' % (pct_more_points_winners*100, n_more_points_winners))\n",
    "\n",
    "n_diff = np.abs(n_better_rank_winners - n_more_points_winners)\n",
    "pct_diff = np.abs(pct_better_rank_winners - pct_more_points_winners)\n",
    "print('Difference: %f (%s)' % (pct_diff*100, n_diff))"
   ]
  },
  {
   "cell_type": "markdown",
   "metadata": {},
   "source": [
    "Only 14 cases where the winner had a better rank but not a better score. So it seems there will be no problem for dropping them."
   ]
  },
  {
   "cell_type": "code",
   "execution_count": 122,
   "metadata": {},
   "outputs": [
    {
     "name": "stdout",
     "output_type": "stream",
     "text": [
      "['ATP' 'Location' 'Tournament' 'Date' 'Series' 'Court' 'Surface' 'Round'\n",
      " 'Best of' 'Winner' 'Loser' 'WRank' 'LRank' 'WPts' 'LPts' 'W1' 'L1' 'W2'\n",
      " 'L2' 'W3' 'L3' 'W4' 'L4' 'W5' 'L5' 'Wsets' 'Lsets' 'Comment' 'MaxW'\n",
      " 'MaxL' 'AvgW' 'AvgL' 'StdW' 'StdL' 'MinW' 'MinL']\n",
      "----------------------------------------\n",
      "['ATP' 'Location' 'Tournament' 'Date' 'Series' 'Court' 'Surface' 'Round'\n",
      " 'Best of' 'Winner' 'Loser' 'WRank' 'LRank' 'W1' 'L1' 'W2' 'L2' 'W3' 'L3'\n",
      " 'W4' 'L4' 'W5' 'L5' 'Wsets' 'Lsets' 'Comment' 'MaxW' 'MaxL' 'AvgW' 'AvgL'\n",
      " 'StdW' 'StdL' 'MinW' 'MinL']\n"
     ]
    }
   ],
   "source": [
    "print(data.columns.values)\n",
    "data.drop(['WPts', 'LPts'], axis=1, inplace=True)\n",
    "\n",
    "print('-'*40)\n",
    "print(data.columns.values)"
   ]
  },
  {
   "cell_type": "markdown",
   "metadata": {},
   "source": [
    "## Converting Categorical Features to Numerical"
   ]
  },
  {
   "cell_type": "markdown",
   "metadata": {},
   "source": [
    "Once again, let's inspect the categorical features to come up with ways to numericalize them."
   ]
  },
  {
   "cell_type": "code",
   "execution_count": 124,
   "metadata": {},
   "outputs": [
    {
     "data": {
      "text/html": [
       "<div>\n",
       "<style scoped>\n",
       "    .dataframe tbody tr th:only-of-type {\n",
       "        vertical-align: middle;\n",
       "    }\n",
       "\n",
       "    .dataframe tbody tr th {\n",
       "        vertical-align: top;\n",
       "    }\n",
       "\n",
       "    .dataframe thead th {\n",
       "        text-align: right;\n",
       "    }\n",
       "</style>\n",
       "<table border=\"1\" class=\"dataframe\">\n",
       "  <thead>\n",
       "    <tr style=\"text-align: right;\">\n",
       "      <th></th>\n",
       "      <th>Location</th>\n",
       "      <th>Tournament</th>\n",
       "      <th>Series</th>\n",
       "      <th>Court</th>\n",
       "      <th>Surface</th>\n",
       "      <th>Round</th>\n",
       "      <th>Winner</th>\n",
       "      <th>Loser</th>\n",
       "      <th>Comment</th>\n",
       "    </tr>\n",
       "  </thead>\n",
       "  <tbody>\n",
       "    <tr>\n",
       "      <th>count</th>\n",
       "      <td>46369</td>\n",
       "      <td>46369</td>\n",
       "      <td>46369</td>\n",
       "      <td>46369</td>\n",
       "      <td>46369</td>\n",
       "      <td>46369</td>\n",
       "      <td>46369</td>\n",
       "      <td>46369</td>\n",
       "      <td>46369</td>\n",
       "    </tr>\n",
       "    <tr>\n",
       "      <th>unique</th>\n",
       "      <td>109</td>\n",
       "      <td>200</td>\n",
       "      <td>8</td>\n",
       "      <td>2</td>\n",
       "      <td>4</td>\n",
       "      <td>8</td>\n",
       "      <td>852</td>\n",
       "      <td>1305</td>\n",
       "      <td>4</td>\n",
       "    </tr>\n",
       "    <tr>\n",
       "      <th>top</th>\n",
       "      <td>Paris</td>\n",
       "      <td>Wimbledon</td>\n",
       "      <td>ATP250</td>\n",
       "      <td>Outdoor</td>\n",
       "      <td>Hard</td>\n",
       "      <td>1st Round</td>\n",
       "      <td>Federer R.</td>\n",
       "      <td>Lopez F.</td>\n",
       "      <td>Completed</td>\n",
       "    </tr>\n",
       "    <tr>\n",
       "      <th>freq</th>\n",
       "      <td>3016</td>\n",
       "      <td>2257</td>\n",
       "      <td>10737</td>\n",
       "      <td>38148</td>\n",
       "      <td>24303</td>\n",
       "      <td>21187</td>\n",
       "      <td>1042</td>\n",
       "      <td>402</td>\n",
       "      <td>45299</td>\n",
       "    </tr>\n",
       "  </tbody>\n",
       "</table>\n",
       "</div>"
      ],
      "text/plain": [
       "       Location Tournament  Series    Court Surface      Round      Winner  \\\n",
       "count     46369      46369   46369    46369   46369      46369       46369   \n",
       "unique      109        200       8        2       4          8         852   \n",
       "top       Paris  Wimbledon  ATP250  Outdoor    Hard  1st Round  Federer R.   \n",
       "freq       3016       2257   10737    38148   24303      21187        1042   \n",
       "\n",
       "           Loser    Comment  \n",
       "count      46369      46369  \n",
       "unique      1305          4  \n",
       "top     Lopez F.  Completed  \n",
       "freq         402      45299  "
      ]
     },
     "execution_count": 124,
     "metadata": {},
     "output_type": "execute_result"
    }
   ],
   "source": [
    "data.describe(include=['O'])"
   ]
  },
  {
   "cell_type": "markdown",
   "metadata": {},
   "source": [
    "#### Observations:\n",
    "1. There are fewer winners than losers.\n",
    "2. All other features seem easy enough."
   ]
  },
  {
   "cell_type": "markdown",
   "metadata": {},
   "source": [
    "The convertion is done by creating a dictionary for each feature where the key is the current feature's value and the dictionary's value is a discrete number; and mapping the dictionaries to the features."
   ]
  },
  {
   "cell_type": "code",
   "execution_count": 136,
   "metadata": {},
   "outputs": [
    {
     "data": {
      "text/html": [
       "<div>\n",
       "<style scoped>\n",
       "    .dataframe tbody tr th:only-of-type {\n",
       "        vertical-align: middle;\n",
       "    }\n",
       "\n",
       "    .dataframe tbody tr th {\n",
       "        vertical-align: top;\n",
       "    }\n",
       "\n",
       "    .dataframe thead th {\n",
       "        text-align: right;\n",
       "    }\n",
       "</style>\n",
       "<table border=\"1\" class=\"dataframe\">\n",
       "  <thead>\n",
       "    <tr style=\"text-align: right;\">\n",
       "      <th></th>\n",
       "      <th></th>\n",
       "      <th>ATP</th>\n",
       "      <th>Location</th>\n",
       "      <th>Tournament</th>\n",
       "      <th>Date</th>\n",
       "      <th>Series</th>\n",
       "      <th>Court</th>\n",
       "      <th>Surface</th>\n",
       "      <th>Round</th>\n",
       "      <th>Best of</th>\n",
       "      <th>Winner</th>\n",
       "      <th>...</th>\n",
       "      <th>Lsets</th>\n",
       "      <th>Comment</th>\n",
       "      <th>MaxW</th>\n",
       "      <th>MaxL</th>\n",
       "      <th>AvgW</th>\n",
       "      <th>AvgL</th>\n",
       "      <th>StdW</th>\n",
       "      <th>StdL</th>\n",
       "      <th>MinW</th>\n",
       "      <th>MinL</th>\n",
       "    </tr>\n",
       "  </thead>\n",
       "  <tbody>\n",
       "    <tr>\n",
       "      <th rowspan=\"5\" valign=\"top\">18</th>\n",
       "      <th>0</th>\n",
       "      <td>1</td>\n",
       "      <td>0</td>\n",
       "      <td>0</td>\n",
       "      <td>2017-12-31</td>\n",
       "      <td>0</td>\n",
       "      <td>0</td>\n",
       "      <td>0</td>\n",
       "      <td>0</td>\n",
       "      <td>3</td>\n",
       "      <td>0</td>\n",
       "      <td>...</td>\n",
       "      <td>0.0</td>\n",
       "      <td>0</td>\n",
       "      <td>2.29</td>\n",
       "      <td>1.77</td>\n",
       "      <td>2.17</td>\n",
       "      <td>1.68</td>\n",
       "      <td>0.059722</td>\n",
       "      <td>0.041633</td>\n",
       "      <td>2.10</td>\n",
       "      <td>1.61</td>\n",
       "    </tr>\n",
       "    <tr>\n",
       "      <th>1</th>\n",
       "      <td>1</td>\n",
       "      <td>0</td>\n",
       "      <td>0</td>\n",
       "      <td>2017-12-31</td>\n",
       "      <td>0</td>\n",
       "      <td>0</td>\n",
       "      <td>0</td>\n",
       "      <td>0</td>\n",
       "      <td>3</td>\n",
       "      <td>1</td>\n",
       "      <td>...</td>\n",
       "      <td>0.0</td>\n",
       "      <td>0</td>\n",
       "      <td>3.25</td>\n",
       "      <td>1.44</td>\n",
       "      <td>2.96</td>\n",
       "      <td>1.39</td>\n",
       "      <td>0.188149</td>\n",
       "      <td>0.025000</td>\n",
       "      <td>2.75</td>\n",
       "      <td>1.38</td>\n",
       "    </tr>\n",
       "    <tr>\n",
       "      <th>2</th>\n",
       "      <td>1</td>\n",
       "      <td>0</td>\n",
       "      <td>0</td>\n",
       "      <td>2018-01-01</td>\n",
       "      <td>0</td>\n",
       "      <td>0</td>\n",
       "      <td>0</td>\n",
       "      <td>0</td>\n",
       "      <td>3</td>\n",
       "      <td>2</td>\n",
       "      <td>...</td>\n",
       "      <td>1.0</td>\n",
       "      <td>0</td>\n",
       "      <td>1.75</td>\n",
       "      <td>2.35</td>\n",
       "      <td>1.67</td>\n",
       "      <td>2.17</td>\n",
       "      <td>0.029439</td>\n",
       "      <td>0.086603</td>\n",
       "      <td>1.61</td>\n",
       "      <td>2.15</td>\n",
       "    </tr>\n",
       "    <tr>\n",
       "      <th>3</th>\n",
       "      <td>1</td>\n",
       "      <td>0</td>\n",
       "      <td>0</td>\n",
       "      <td>2018-01-01</td>\n",
       "      <td>0</td>\n",
       "      <td>0</td>\n",
       "      <td>0</td>\n",
       "      <td>0</td>\n",
       "      <td>3</td>\n",
       "      <td>3</td>\n",
       "      <td>...</td>\n",
       "      <td>0.0</td>\n",
       "      <td>0</td>\n",
       "      <td>2.52</td>\n",
       "      <td>1.65</td>\n",
       "      <td>2.37</td>\n",
       "      <td>1.58</td>\n",
       "      <td>0.067823</td>\n",
       "      <td>0.060553</td>\n",
       "      <td>2.35</td>\n",
       "      <td>1.50</td>\n",
       "    </tr>\n",
       "    <tr>\n",
       "      <th>4</th>\n",
       "      <td>1</td>\n",
       "      <td>0</td>\n",
       "      <td>0</td>\n",
       "      <td>2018-01-01</td>\n",
       "      <td>0</td>\n",
       "      <td>0</td>\n",
       "      <td>0</td>\n",
       "      <td>0</td>\n",
       "      <td>3</td>\n",
       "      <td>4</td>\n",
       "      <td>...</td>\n",
       "      <td>0.0</td>\n",
       "      <td>0</td>\n",
       "      <td>1.57</td>\n",
       "      <td>3.00</td>\n",
       "      <td>1.44</td>\n",
       "      <td>2.73</td>\n",
       "      <td>0.072572</td>\n",
       "      <td>0.278867</td>\n",
       "      <td>1.40</td>\n",
       "      <td>2.37</td>\n",
       "    </tr>\n",
       "  </tbody>\n",
       "</table>\n",
       "<p>5 rows × 36 columns</p>\n",
       "</div>"
      ],
      "text/plain": [
       "      ATP  Location  Tournament       Date  Series  Court  Surface  Round  \\\n",
       "18 0    1         0           0 2017-12-31       0      0        0      0   \n",
       "   1    1         0           0 2017-12-31       0      0        0      0   \n",
       "   2    1         0           0 2018-01-01       0      0        0      0   \n",
       "   3    1         0           0 2018-01-01       0      0        0      0   \n",
       "   4    1         0           0 2018-01-01       0      0        0      0   \n",
       "\n",
       "      Best of  Winner  ...   Lsets  Comment  MaxW  MaxL  AvgW  AvgL      StdW  \\\n",
       "18 0        3       0  ...     0.0        0  2.29  1.77  2.17  1.68  0.059722   \n",
       "   1        3       1  ...     0.0        0  3.25  1.44  2.96  1.39  0.188149   \n",
       "   2        3       2  ...     1.0        0  1.75  2.35  1.67  2.17  0.029439   \n",
       "   3        3       3  ...     0.0        0  2.52  1.65  2.37  1.58  0.067823   \n",
       "   4        3       4  ...     0.0        0  1.57  3.00  1.44  2.73  0.072572   \n",
       "\n",
       "          StdL  MinW  MinL  \n",
       "18 0  0.041633  2.10  1.61  \n",
       "   1  0.025000  2.75  1.38  \n",
       "   2  0.086603  1.61  2.15  \n",
       "   3  0.060553  2.35  1.50  \n",
       "   4  0.278867  1.40  2.37  \n",
       "\n",
       "[5 rows x 36 columns]"
      ]
     },
     "execution_count": 136,
     "metadata": {},
     "output_type": "execute_result"
    }
   ],
   "source": [
    "# Create dictionaries\n",
    "location_map = {}\n",
    "tournament_map = {}\n",
    "series_map = {}\n",
    "court_map = {}\n",
    "surface_map = {}\n",
    "round_map = {}\n",
    "winner_map = {}\n",
    "loser_map = {}\n",
    "comment_map = {}\n",
    "# Create array of dictionaries for easier iteration\n",
    "maps = [location_map, tournament_map, series_map, court_map, surface_map, \n",
    "        round_map, winner_map, loser_map, comment_map]\n",
    "\n",
    "# Number iterator\n",
    "it = 0\n",
    "# Iterate over the categorical features\n",
    "for c in data.select_dtypes(include=object):\n",
    "    val = 0\n",
    "    # Iterate over the unique values of the current feature\n",
    "    for u in data[c].unique():\n",
    "        maps[it][u] = val\n",
    "        val += 1\n",
    "    # Map dictionary to feature\n",
    "    data[c] = data[c].map(maps[it])\n",
    "    it += 1\n",
    "\n",
    "data2.head()"
   ]
  },
  {
   "cell_type": "code",
   "execution_count": null,
   "metadata": {},
   "outputs": [],
   "source": []
  },
  {
   "cell_type": "code",
   "execution_count": null,
   "metadata": {},
   "outputs": [],
   "source": []
  }
 ],
 "metadata": {
  "kernelspec": {
   "display_name": "Python 3",
   "language": "python",
   "name": "python3"
  },
  "language_info": {
   "codemirror_mode": {
    "name": "ipython",
    "version": 3
   },
   "file_extension": ".py",
   "mimetype": "text/x-python",
   "name": "python",
   "nbconvert_exporter": "python",
   "pygments_lexer": "ipython3",
   "version": "3.6.5"
  }
 },
 "nbformat": 4,
 "nbformat_minor": 2
}
